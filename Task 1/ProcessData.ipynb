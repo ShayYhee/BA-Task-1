{
 "cells": [
  {
   "cell_type": "code",
   "execution_count": 1,
   "id": "5d879a40",
   "metadata": {},
   "outputs": [],
   "source": [
    "import pandas as pd"
   ]
  },
  {
   "cell_type": "code",
   "execution_count": 10,
   "id": "8c7ae0ee",
   "metadata": {},
   "outputs": [
    {
     "data": {
      "text/html": [
       "<div>\n",
       "<style scoped>\n",
       "    .dataframe tbody tr th:only-of-type {\n",
       "        vertical-align: middle;\n",
       "    }\n",
       "\n",
       "    .dataframe tbody tr th {\n",
       "        vertical-align: top;\n",
       "    }\n",
       "\n",
       "    .dataframe thead th {\n",
       "        text-align: right;\n",
       "    }\n",
       "</style>\n",
       "<table border=\"1\" class=\"dataframe\">\n",
       "  <thead>\n",
       "    <tr style=\"text-align: right;\">\n",
       "      <th></th>\n",
       "      <th>№</th>\n",
       "      <th>Status</th>\n",
       "      <th>Review</th>\n",
       "    </tr>\n",
       "  </thead>\n",
       "  <tbody>\n",
       "    <tr>\n",
       "      <th>0</th>\n",
       "      <td>3</td>\n",
       "      <td>Trip Verified</td>\n",
       "      <td>Communication and customer service non existen...</td>\n",
       "    </tr>\n",
       "    <tr>\n",
       "      <th>1</th>\n",
       "      <td>4</td>\n",
       "      <td>Trip Verified</td>\n",
       "      <td>That was supposed to be my flight but it was c...</td>\n",
       "    </tr>\n",
       "    <tr>\n",
       "      <th>2</th>\n",
       "      <td>5</td>\n",
       "      <td>Trip Verified</td>\n",
       "      <td>Have no fear when your BA flight is operated b...</td>\n",
       "    </tr>\n",
       "    <tr>\n",
       "      <th>3</th>\n",
       "      <td>7</td>\n",
       "      <td>Trip Verified</td>\n",
       "      <td>London Heathrow to Istanbul at the start of th...</td>\n",
       "    </tr>\n",
       "    <tr>\n",
       "      <th>4</th>\n",
       "      <td>9</td>\n",
       "      <td>Trip Verified</td>\n",
       "      <td>I am a British Airways Gold Guest List member ...</td>\n",
       "    </tr>\n",
       "  </tbody>\n",
       "</table>\n",
       "</div>"
      ],
      "text/plain": [
       "   №         Status                                             Review\n",
       "0  3  Trip Verified  Communication and customer service non existen...\n",
       "1  4  Trip Verified  That was supposed to be my flight but it was c...\n",
       "2  5  Trip Verified  Have no fear when your BA flight is operated b...\n",
       "3  7  Trip Verified  London Heathrow to Istanbul at the start of th...\n",
       "4  9  Trip Verified  I am a British Airways Gold Guest List member ..."
      ]
     },
     "execution_count": 10,
     "metadata": {},
     "output_type": "execute_result"
    }
   ],
   "source": [
    "df = pd.read_csv(\"data/1000_BA_Reviews_ppd2.csv\",sep=\"|\")\n",
    "df.head()"
   ]
  },
  {
   "cell_type": "code",
   "execution_count": 11,
   "id": "35bbc513",
   "metadata": {},
   "outputs": [
    {
     "data": {
      "text/plain": [
       "<bound method NDFrame.describe of          №         Status                                             Review\n",
       "0        3  Trip Verified  Communication and customer service non existen...\n",
       "1        4  Trip Verified  That was supposed to be my flight but it was c...\n",
       "2        5  Trip Verified  Have no fear when your BA flight is operated b...\n",
       "3        7  Trip Verified  London Heathrow to Istanbul at the start of th...\n",
       "4        9  Trip Verified  I am a British Airways Gold Guest List member ...\n",
       "...    ...            ...                                                ...\n",
       "1962  1898     Unverified  Gatwick to Salzburg return in business class, ...\n",
       "1963  1899     Unverified  Gatwick to Barbados, outbound on 19th January ...\n",
       "1964  1900     Unverified  Bordeaux to London Gatwick. As a former Execut...\n",
       "1965  1901     Unverified  London Heathrow to San Francisco return. Upgra...\n",
       "1966  1918     Unverified  London Heathrow to Philadelphia return. Very g...\n",
       "\n",
       "[1967 rows x 3 columns]>"
      ]
     },
     "execution_count": 11,
     "metadata": {},
     "output_type": "execute_result"
    }
   ],
   "source": [
    "df.describe"
   ]
  },
  {
   "cell_type": "code",
   "execution_count": 14,
   "id": "0249bfe8",
   "metadata": {},
   "outputs": [
    {
     "data": {
      "text/plain": [
       "0       Trip Verified\n",
       "1       Trip Verified\n",
       "2       Trip Verified\n",
       "3       Trip Verified\n",
       "4       Trip Verified\n",
       "            ...      \n",
       "1962       Unverified\n",
       "1963       Unverified\n",
       "1964       Unverified\n",
       "1965       Unverified\n",
       "1966       Unverified\n",
       "Name: Status, Length: 1967, dtype: object"
      ]
     },
     "execution_count": 14,
     "metadata": {},
     "output_type": "execute_result"
    }
   ],
   "source": [
    "status = df['Status']\n",
    "status"
   ]
  },
  {
   "cell_type": "code",
   "execution_count": 19,
   "id": "b268652d",
   "metadata": {},
   "outputs": [
    {
     "name": "stdout",
     "output_type": "stream",
     "text": [
      "There are 1180 Trip Verified reviews\n",
      "There are 524 Verified Review reviews\n",
      "There are 0 Not Verified reviews\n",
      "There are 0 Unverified reviews\n",
      "There are 1704 reviews in total\n"
     ]
    }
   ],
   "source": [
    "count_tv = 0\n",
    "count_vr = 0\n",
    "count_nv = 0\n",
    "count_uv = 0\n",
    "for stat in status:\n",
    "    if stat == 'Trip Verified':\n",
    "        count_tv+=1\n",
    "    if stat == 'Verified Review':\n",
    "        count_vr+=1\n",
    "    if stat == 'Not Verified':\n",
    "        count_nv+1\n",
    "    if stat == 'Unverified':\n",
    "        count_uv+1\n",
    "print(f'There are {count_tv} Trip Verified reviews')\n",
    "print(f'There are {count_vr} Verified Review reviews')\n",
    "print(f'There are {count_nv} Not Verified reviews')\n",
    "print(f'There are {count_uv} Unverified reviews')\n",
    "print(f'There are {count_tv + count_vr + count_nv + count_uv} reviews in total')"
   ]
  },
  {
   "cell_type": "code",
   "execution_count": null,
   "id": "cf4abf62",
   "metadata": {},
   "outputs": [],
   "source": []
  }
 ],
 "metadata": {
  "kernelspec": {
   "display_name": "Python 3 (ipykernel)",
   "language": "python",
   "name": "python3"
  },
  "language_info": {
   "codemirror_mode": {
    "name": "ipython",
    "version": 3
   },
   "file_extension": ".py",
   "mimetype": "text/x-python",
   "name": "python",
   "nbconvert_exporter": "python",
   "pygments_lexer": "ipython3",
   "version": "3.11.5"
  }
 },
 "nbformat": 4,
 "nbformat_minor": 5
}
